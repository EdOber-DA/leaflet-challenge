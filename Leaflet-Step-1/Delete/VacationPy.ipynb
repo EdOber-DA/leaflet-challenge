{
 "cells": [
  {
   "cell_type": "code",
   "execution_count": 1,
   "metadata": {},
   "outputs": [],
   "source": [
    "##### VacationPy code - create heatmap and pin markers for hotels in cities meeting the criteria\n",
    "# Dependencies\n",
    "\n",
    "from config import (census_key, gkey)\n",
    "import gmaps\n",
    "import numpy as np\n",
    "import pandas as pd\n",
    "\n",
    "import requests\n",
    "import json\n",
    "\n",
    "import time\n",
    "from scipy.stats import linregress\n",
    "from matplotlib import pyplot as plt\n",
    "\n",
    "from pprint import pprint"
   ]
  },
  {
   "cell_type": "code",
   "execution_count": 2,
   "metadata": {},
   "outputs": [],
   "source": [
    "# Configure gmaps with API key\n",
    "gmaps.configure(api_key=gkey)"
   ]
  },
  {
   "cell_type": "code",
   "execution_count": 3,
   "metadata": {},
   "outputs": [],
   "source": [
    "# read in the csv created in the WeatherPy section\n",
    "city_data = pd.read_csv(\"../WeatherPy/Output/City_DataFrame_CSV_Output.csv\",dtype=\"object\", encoding=\"utf-8\")"
   ]
  },
  {
   "cell_type": "code",
   "execution_count": 4,
   "metadata": {},
   "outputs": [],
   "source": [
    "# Fix data types\n",
    "city_data[[\"City Latitude\", \"City Longitude\",'Temperature (F)','Humidity %','Cloud Coverage %','Wind Speed (mph)']] = city_data[[\"City Latitude\", \"City Longitude\",'Temperature (F)','Humidity %','Cloud Coverage %','Wind Speed (mph)']].astype(float)"
   ]
  },
  {
   "cell_type": "code",
   "execution_count": 5,
   "metadata": {},
   "outputs": [
    {
     "data": {
      "text/html": [
       "<div>\n",
       "<style scoped>\n",
       "    .dataframe tbody tr th:only-of-type {\n",
       "        vertical-align: middle;\n",
       "    }\n",
       "\n",
       "    .dataframe tbody tr th {\n",
       "        vertical-align: top;\n",
       "    }\n",
       "\n",
       "    .dataframe thead th {\n",
       "        text-align: right;\n",
       "    }\n",
       "</style>\n",
       "<table border=\"1\" class=\"dataframe\">\n",
       "  <thead>\n",
       "    <tr style=\"text-align: right;\">\n",
       "      <th></th>\n",
       "      <th>City Name</th>\n",
       "      <th>Temperature (F)</th>\n",
       "      <th>Humidity %</th>\n",
       "      <th>Cloud Coverage %</th>\n",
       "      <th>Wind Speed (mph)</th>\n",
       "      <th>City Latitude</th>\n",
       "      <th>City Longitude</th>\n",
       "      <th>City Country</th>\n",
       "      <th>City Local Date_Time</th>\n",
       "      <th>Random_Latitude</th>\n",
       "      <th>Random_Longitude</th>\n",
       "    </tr>\n",
       "  </thead>\n",
       "  <tbody>\n",
       "    <tr>\n",
       "      <th>539</th>\n",
       "      <td>Buluang</td>\n",
       "      <td>75.34</td>\n",
       "      <td>87.0</td>\n",
       "      <td>100.0</td>\n",
       "      <td>4.43</td>\n",
       "      <td>13.3068</td>\n",
       "      <td>123.3425</td>\n",
       "      <td>PH</td>\n",
       "      <td>Fri, 12 Mar 2021 01:16:12</td>\n",
       "      <td>13.43</td>\n",
       "      <td>116.32</td>\n",
       "    </tr>\n",
       "    <tr>\n",
       "      <th>540</th>\n",
       "      <td>Ixtapa</td>\n",
       "      <td>78.80</td>\n",
       "      <td>53.0</td>\n",
       "      <td>1.0</td>\n",
       "      <td>5.35</td>\n",
       "      <td>20.7000</td>\n",
       "      <td>-105.2000</td>\n",
       "      <td>MX</td>\n",
       "      <td>Thu, 11 Mar 2021 11:16:13</td>\n",
       "      <td>9.68</td>\n",
       "      <td>-105.08</td>\n",
       "    </tr>\n",
       "  </tbody>\n",
       "</table>\n",
       "</div>"
      ],
      "text/plain": [
       "    City Name  Temperature (F)  Humidity %  Cloud Coverage %  \\\n",
       "539   Buluang            75.34        87.0             100.0   \n",
       "540    Ixtapa            78.80        53.0               1.0   \n",
       "\n",
       "     Wind Speed (mph)  City Latitude  City Longitude City Country  \\\n",
       "539              4.43        13.3068        123.3425           PH   \n",
       "540              5.35        20.7000       -105.2000           MX   \n",
       "\n",
       "          City Local Date_Time Random_Latitude Random_Longitude  \n",
       "539  Fri, 12 Mar 2021 01:16:12           13.43           116.32  \n",
       "540  Thu, 11 Mar 2021 11:16:13            9.68          -105.08  "
      ]
     },
     "execution_count": 5,
     "metadata": {},
     "output_type": "execute_result"
    }
   ],
   "source": [
    "# Check City_Data loaded correctly\n",
    "city_data.tail(2)"
   ]
  },
  {
   "cell_type": "code",
   "execution_count": 6,
   "metadata": {},
   "outputs": [],
   "source": [
    "# set up data for heat map on humidity\n",
    "locations = city_data[[\"City Latitude\", \"City Longitude\"]]\n",
    "humidity  = city_data[\"Humidity %\"]"
   ]
  },
  {
   "cell_type": "code",
   "execution_count": 11,
   "metadata": {},
   "outputs": [
    {
     "data": {
      "application/vnd.jupyter.widget-view+json": {
       "model_id": "dc52e3f77f54445d97491efd3e9867f2",
       "version_major": 2,
       "version_minor": 0
      },
      "text/plain": [
       "Figure(layout=FigureLayout(height='420px'))"
      ]
     },
     "metadata": {},
     "output_type": "display_data"
    }
   ],
   "source": [
    "# Display heat map for humidity\n",
    "fig = gmaps.figure()\n",
    "\n",
    "heat_layer = gmaps.heatmap_layer(locations, weights=humidity,dissipating=False,opacity=.7, \n",
    "                                 max_intensity=100,point_radius = 2.5)\n",
    "\n",
    "fig.add_layer(heat_layer)\n",
    "\n",
    "fig"
   ]
  },
  {
   "cell_type": "code",
   "execution_count": null,
   "metadata": {},
   "outputs": [],
   "source": []
  },
  {
   "cell_type": "code",
   "execution_count": 12,
   "metadata": {},
   "outputs": [],
   "source": [
    "# restrict the number of cities so we have < 10\n",
    "ideal_cities = city_data[((city_data[\"Temperature (F)\"]) >= 72) & ((city_data[\"Temperature (F)\"]) <= 79) & ((city_data[\"Wind Speed (mph)\"]) >= 5) & ((city_data[\"Wind Speed (mph)\"]) <= 10)& ((city_data[\"Cloud Coverage %\"]) >= 0) & ((city_data[\"Cloud Coverage %\"]) <= 10)]"
   ]
  },
  {
   "cell_type": "code",
   "execution_count": 13,
   "metadata": {},
   "outputs": [
    {
     "data": {
      "text/plain": [
       "City Name               7\n",
       "Temperature (F)         7\n",
       "Humidity %              7\n",
       "Cloud Coverage %        7\n",
       "Wind Speed (mph)        7\n",
       "City Latitude           7\n",
       "City Longitude          7\n",
       "City Country            7\n",
       "City Local Date_Time    7\n",
       "Random_Latitude         7\n",
       "Random_Longitude        7\n",
       "dtype: int64"
      ]
     },
     "execution_count": 13,
     "metadata": {},
     "output_type": "execute_result"
    }
   ],
   "source": [
    "# Check our count < 10 and all values populated\n",
    "ideal_cities.count()"
   ]
  },
  {
   "cell_type": "code",
   "execution_count": 14,
   "metadata": {},
   "outputs": [
    {
     "name": "stderr",
     "output_type": "stream",
     "text": [
      "C:\\Users\\edwar\\anaconda3\\envs\\PythonData\\lib\\site-packages\\ipykernel_launcher.py:2: SettingWithCopyWarning: \n",
      "A value is trying to be set on a copy of a slice from a DataFrame.\n",
      "Try using .loc[row_indexer,col_indexer] = value instead\n",
      "\n",
      "See the caveats in the documentation: https://pandas.pydata.org/pandas-docs/stable/user_guide/indexing.html#returning-a-view-versus-a-copy\n",
      "  \n",
      "C:\\Users\\edwar\\anaconda3\\envs\\PythonData\\lib\\site-packages\\ipykernel_launcher.py:3: SettingWithCopyWarning: \n",
      "A value is trying to be set on a copy of a slice from a DataFrame.\n",
      "Try using .loc[row_indexer,col_indexer] = value instead\n",
      "\n",
      "See the caveats in the documentation: https://pandas.pydata.org/pandas-docs/stable/user_guide/indexing.html#returning-a-view-versus-a-copy\n",
      "  This is separate from the ipykernel package so we can avoid doing imports until\n",
      "C:\\Users\\edwar\\anaconda3\\envs\\PythonData\\lib\\site-packages\\ipykernel_launcher.py:4: SettingWithCopyWarning: \n",
      "A value is trying to be set on a copy of a slice from a DataFrame.\n",
      "Try using .loc[row_indexer,col_indexer] = value instead\n",
      "\n",
      "See the caveats in the documentation: https://pandas.pydata.org/pandas-docs/stable/user_guide/indexing.html#returning-a-view-versus-a-copy\n",
      "  after removing the cwd from sys.path.\n",
      "C:\\Users\\edwar\\anaconda3\\envs\\PythonData\\lib\\site-packages\\ipykernel_launcher.py:5: SettingWithCopyWarning: \n",
      "A value is trying to be set on a copy of a slice from a DataFrame.\n",
      "Try using .loc[row_indexer,col_indexer] = value instead\n",
      "\n",
      "See the caveats in the documentation: https://pandas.pydata.org/pandas-docs/stable/user_guide/indexing.html#returning-a-view-versus-a-copy\n",
      "  \"\"\"\n"
     ]
    },
    {
     "data": {
      "text/html": [
       "<div>\n",
       "<style scoped>\n",
       "    .dataframe tbody tr th:only-of-type {\n",
       "        vertical-align: middle;\n",
       "    }\n",
       "\n",
       "    .dataframe tbody tr th {\n",
       "        vertical-align: top;\n",
       "    }\n",
       "\n",
       "    .dataframe thead th {\n",
       "        text-align: right;\n",
       "    }\n",
       "</style>\n",
       "<table border=\"1\" class=\"dataframe\">\n",
       "  <thead>\n",
       "    <tr style=\"text-align: right;\">\n",
       "      <th></th>\n",
       "      <th>City Name</th>\n",
       "      <th>Temperature (F)</th>\n",
       "      <th>Humidity %</th>\n",
       "      <th>Cloud Coverage %</th>\n",
       "      <th>Wind Speed (mph)</th>\n",
       "      <th>City Latitude</th>\n",
       "      <th>City Longitude</th>\n",
       "      <th>City Country</th>\n",
       "      <th>City Local Date_Time</th>\n",
       "      <th>Random_Latitude</th>\n",
       "      <th>Random_Longitude</th>\n",
       "      <th>Hotel_Name</th>\n",
       "      <th>Hotel_Address</th>\n",
       "      <th>Hotel_Lat</th>\n",
       "      <th>Hotel_Lng</th>\n",
       "    </tr>\n",
       "  </thead>\n",
       "  <tbody>\n",
       "    <tr>\n",
       "      <th>492</th>\n",
       "      <td>Lumphat</td>\n",
       "      <td>76.41</td>\n",
       "      <td>59.0</td>\n",
       "      <td>0.0</td>\n",
       "      <td>9.78</td>\n",
       "      <td>13.4878</td>\n",
       "      <td>106.9816</td>\n",
       "      <td>KH</td>\n",
       "      <td>Fri, 12 Mar 2021 00:15:57</td>\n",
       "      <td>13.94</td>\n",
       "      <td>106.95</td>\n",
       "      <td></td>\n",
       "      <td></td>\n",
       "      <td></td>\n",
       "      <td></td>\n",
       "    </tr>\n",
       "    <tr>\n",
       "      <th>540</th>\n",
       "      <td>Ixtapa</td>\n",
       "      <td>78.80</td>\n",
       "      <td>53.0</td>\n",
       "      <td>1.0</td>\n",
       "      <td>5.35</td>\n",
       "      <td>20.7000</td>\n",
       "      <td>-105.2000</td>\n",
       "      <td>MX</td>\n",
       "      <td>Thu, 11 Mar 2021 11:16:13</td>\n",
       "      <td>9.68</td>\n",
       "      <td>-105.08</td>\n",
       "      <td></td>\n",
       "      <td></td>\n",
       "      <td></td>\n",
       "      <td></td>\n",
       "    </tr>\n",
       "  </tbody>\n",
       "</table>\n",
       "</div>"
      ],
      "text/plain": [
       "    City Name  Temperature (F)  Humidity %  Cloud Coverage %  \\\n",
       "492   Lumphat            76.41        59.0               0.0   \n",
       "540    Ixtapa            78.80        53.0               1.0   \n",
       "\n",
       "     Wind Speed (mph)  City Latitude  City Longitude City Country  \\\n",
       "492              9.78        13.4878        106.9816           KH   \n",
       "540              5.35        20.7000       -105.2000           MX   \n",
       "\n",
       "          City Local Date_Time Random_Latitude Random_Longitude Hotel_Name  \\\n",
       "492  Fri, 12 Mar 2021 00:15:57           13.94           106.95              \n",
       "540  Thu, 11 Mar 2021 11:16:13            9.68          -105.08              \n",
       "\n",
       "    Hotel_Address Hotel_Lat Hotel_Lng  \n",
       "492                                    \n",
       "540                                    "
      ]
     },
     "execution_count": 14,
     "metadata": {},
     "output_type": "execute_result"
    }
   ],
   "source": [
    "# Part 1 set up to look up geocoordinates and add hotel info\n",
    "ideal_cities['Hotel_Name'] = \"\"\n",
    "ideal_cities['Hotel_Address'] = \"\"\n",
    "ideal_cities['Hotel_Lat'] = \"\"\n",
    "ideal_cities['Hotel_Lng'] = \"\"\n",
    "ideal_cities.tail(2)"
   ]
  },
  {
   "cell_type": "code",
   "execution_count": 15,
   "metadata": {},
   "outputs": [
    {
     "name": "stderr",
     "output_type": "stream",
     "text": [
      "C:\\Users\\edwar\\anaconda3\\envs\\PythonData\\lib\\site-packages\\pandas\\core\\indexing.py:966: SettingWithCopyWarning: \n",
      "A value is trying to be set on a copy of a slice from a DataFrame.\n",
      "Try using .loc[row_indexer,col_indexer] = value instead\n",
      "\n",
      "See the caveats in the documentation: https://pandas.pydata.org/pandas-docs/stable/user_guide/indexing.html#returning-a-view-versus-a-copy\n",
      "  self.obj[item] = s\n"
     ]
    }
   ],
   "source": [
    "# Part 2 create the hotel label markers\n",
    "# gather the info for the hotels (lodging) within 5000 meters of the city location\n",
    "for index, row in ideal_cities.iterrows():\n",
    "    # set up a parameters dictionary\n",
    "    lat = row[\"City Latitude\"]\n",
    "    lng = row[\"City Longitude\"]\n",
    "\n",
    "    params = {\n",
    "        \"location\": f\"{lat},{lng}\",\n",
    "        \"radius\": \"5000\",\n",
    "        \"types\": \"lodging\",\n",
    "        \"key\": gkey\n",
    "    }\n",
    "    \n",
    "\n",
    "# base url\n",
    "    base_url = \"https://maps.googleapis.com/maps/api/place/nearbysearch/json\"\n",
    "    # print(f\"{lat},{lng}\")\n",
    "# run a request using our params dictionary\n",
    "    response = requests.get(base_url, params=params)\n",
    "    places_data = response.json()\n",
    "# trap any situations where no info returned\n",
    "    try:\n",
    "        ideal_cities.loc[index,'Hotel_Name'] = places_data[\"results\"][0][\"name\"]\n",
    "        ideal_cities.loc[index,'Hotel_Address'] = places_data[\"results\"][0][\"vicinity\"]\n",
    "        ideal_cities.loc[index,'Hotel_Lat'] = places_data['results'][0]['geometry']['location']['lat']\n",
    "        ideal_cities.loc[index,'Hotel_Lng'] = places_data['results'][0]['geometry']['location']['lng']\n",
    "     \n",
    "    except (KeyError, IndexError):\n",
    "        # if a bad return we do not want this city data, so drop it from the file\n",
    "        print(f\"For City: {ideal_cities.loc[index,'City Name']}, Missing field/result... deleting.\")\n",
    "        ideal_cities.drop(index, inplace=True)"
   ]
  },
  {
   "cell_type": "code",
   "execution_count": 16,
   "metadata": {},
   "outputs": [
    {
     "data": {
      "text/plain": [
       "[{'Hotel_Name': 'CHACARA BAILLY', 'City Name': 'Castro', 'City Country': 'CL'},\n",
       " {'Hotel_Name': 'YASH HOTEL', 'City Name': 'Rādhanpur', 'City Country': 'IN'},\n",
       " {'Hotel_Name': 'Orient Apartments',\n",
       "  'City Name': 'Nizwá',\n",
       "  'City Country': 'OM'},\n",
       " {'Hotel_Name': 'Macs', 'City Name': 'Russell', 'City Country': 'NZ'},\n",
       " {'Hotel_Name': 'Sur Plaza Hotel', 'City Name': 'Sur', 'City Country': 'OM'},\n",
       " {'Hotel_Name': 'Lumphat Homestay',\n",
       "  'City Name': 'Lumphat',\n",
       "  'City Country': 'KH'},\n",
       " {'Hotel_Name': 'Hotel Plaza Providencia',\n",
       "  'City Name': 'Ixtapa',\n",
       "  'City Country': 'MX'}]"
      ]
     },
     "execution_count": 16,
     "metadata": {},
     "output_type": "execute_result"
    }
   ],
   "source": [
    "# build a list of the hotel info in a dictionary format so we can use 3 values for the markers\n",
    "hotel_info = ideal_cities[['Hotel_Name','City Name','City Country']]\n",
    "hotel_list = hotel_info.to_dict('records')\n",
    "\n",
    "# check the dictionary built correctly\n",
    "hotel_list"
   ]
  },
  {
   "cell_type": "code",
   "execution_count": 17,
   "metadata": {},
   "outputs": [],
   "source": [
    "# Create a marker_layer using the hotel list to fill the info box and dispaly the merged map\n",
    "# create the marker locations\n",
    "marker_locations = ideal_cities[['Hotel_Lat','Hotel_Lng']]\n",
    "      "
   ]
  },
  {
   "cell_type": "code",
   "execution_count": 19,
   "metadata": {},
   "outputs": [
    {
     "data": {
      "application/vnd.jupyter.widget-view+json": {
       "model_id": "dc52e3f77f54445d97491efd3e9867f2",
       "version_major": 2,
       "version_minor": 0
      },
      "text/plain": [
       "Figure(layout=FigureLayout(height='420px'))"
      ]
     },
     "metadata": {},
     "output_type": "display_data"
    }
   ],
   "source": [
    "# Create a template and insert into the marker code so we can insert the values from the dictionary list\n",
    "info_box_template = \"\"\"\n",
    "<dl>\n",
    "<dt><strong>Name</strong></dt><dd>{Hotel_Name}</dd>\n",
    "<dt><strong>City</dt></strong><dd>{City Name}</dd>\n",
    "<dt><strong>Country</strong></dt><dd>{City Country}</dd>\n",
    "</dl>\n",
    "\"\"\"\n",
    "\n",
    "# build the marker info from the template and dictionary list\n",
    "hotel_info = [info_box_template.format(**hotel) for hotel in hotel_list]\n",
    "\n",
    "# create the marker layer, add to the heatmap and display\n",
    "marker_layer = gmaps.marker_layer(marker_locations, info_box_content=hotel_info)\n",
    "fig.add_layer(marker_layer)\n",
    "fig"
   ]
  },
  {
   "cell_type": "code",
   "execution_count": null,
   "metadata": {},
   "outputs": [],
   "source": []
  }
 ],
 "metadata": {
  "kernelspec": {
   "display_name": "Python 3",
   "language": "python",
   "name": "python3"
  },
  "language_info": {
   "codemirror_mode": {
    "name": "ipython",
    "version": 3
   },
   "file_extension": ".py",
   "mimetype": "text/x-python",
   "name": "python",
   "nbconvert_exporter": "python",
   "pygments_lexer": "ipython3",
   "version": "3.6.10"
  }
 },
 "nbformat": 4,
 "nbformat_minor": 4
}
